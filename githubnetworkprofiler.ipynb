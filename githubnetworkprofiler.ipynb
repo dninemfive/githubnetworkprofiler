{
  "nbformat": 4,
  "nbformat_minor": 0,
  "metadata": {
    "colab": {
      "name": "githubnetworkprofiler",
      "provenance": [],
      "authorship_tag": "ABX9TyPpRx8Mz+xA81tfuuFc0rIz"
    },
    "kernelspec": {
      "name": "python3",
      "display_name": "Python 3"
    }
  },
  "cells": [
    {
      "cell_type": "code",
      "metadata": {
        "id": "qVlFu2MhAvbN",
        "colab_type": "code",
        "colab": {}
      },
      "source": [
        "# load in library we will use later\n",
        "try:\n",
        "  from networkx import Graph\n",
        "except:\n",
        "  !pip install networkx\n",
        "  !pip install matplotlib\n",
        "  from networkx import Graph\n",
        "  from networkx import draw_networkx as draw"
      ],
      "execution_count": 0,
      "outputs": []
    },
    {
      "cell_type": "code",
      "metadata": {
        "id": "WwrvLSoDD-Pb",
        "colab_type": "code",
        "colab": {
          "base_uri": "https://localhost:8080/",
          "height": 248
        },
        "outputId": "055d4f2b-24d6-452c-c2ce-f4e09744a771"
      },
      "source": [
        "# test graph drawing\n",
        "from networkx import draw_networkx as draw\n",
        "G = Graph()\n",
        "G.add_node(1)\n",
        "G.add_node(2)\n",
        "G.add_edge(1, 2)\n",
        "draw(G)"
      ],
      "execution_count": 8,
      "outputs": [
        {
          "output_type": "display_data",
          "data": {
            "image/png": "[encoded data removed]",
            "text/plain": [
              "<Figure size 432x288 with 1 Axes>"
            ]
          },
          "metadata": {
            "tags": []
          }
        }
      ]
    }
  ]
}