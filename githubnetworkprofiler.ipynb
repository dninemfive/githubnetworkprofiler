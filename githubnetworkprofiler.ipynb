{
  "nbformat": 4,
  "nbformat_minor": 0,
  "metadata": {
    "colab": {
      "name": "githubnetworkprofiler",
      "provenance": [],
      "authorship_tag": "ABX9TyMdEZyExVzlVciWpM7jXy61"
    },
    "kernelspec": {
      "name": "python3",
      "display_name": "Python 3"
    }
  },
  "cells": [
    {
      "cell_type": "code",
      "metadata": {
        "id": "qVlFu2MhAvbN",
        "colab_type": "code",
        "colab": {}
      },
      "source": [
        "# load in libraries we will use later\n",
        "try:\n",
        "  from networkx import Graph\n",
        "except:\n",
        "  !pip install networkx\n",
        "  !pip install matplotlib\n",
        "  from networkx import Graph\n",
        "  from networkx import draw_networkx as draw"
      ],
      "execution_count": 0,
      "outputs": []
    },
    {
      "cell_type": "code",
      "metadata": {
        "id": "WwrvLSoDD-Pb",
        "colab_type": "code",
        "outputId": "42c99830-62db-4f37-82d8-101ef704b46c",
        "colab": {
          "base_uri": "https://localhost:8080/",
          "height": 466
        }
      },
      "source": [
        "# test graph drawing\n",
        "from networkx import draw_networkx as draw\n",
        "import matplotlib.pyplot as plt\n",
        "G = Graph()\n",
        "G.add_node('dninemfive')\n",
        "# from D9 Framework\n",
        "G.add_node('ElminsterAU')\n",
        "G.add_edge('dninemfive', 'ElminsterAU')\n",
        "# from Awesome Inventory, via ElminsterAU\n",
        "G.add_node('Mhburg')\n",
        "G.add_edge('ElminsterAU', 'Mhburg')\n",
        "# from Psychology Imprisonment Patch\n",
        "G.add_node('thakyZ')\n",
        "G.add_edge('thakyZ', 'dninemfive')\n",
        "# from SCP\n",
        "G.add_node('SmashPhil')\n",
        "G.add_edge('dninemfive', 'SmashPhil')\n",
        "G.add_node('jecrell')\n",
        "G.add_edge('dninemfive', 'jecrell')\n",
        "G.add_edge('SmashPhil', 'jecrell')\n",
        "# from JecsTools, via Jecrell\n",
        "G.add_node('alycecil')\n",
        "G.add_edge('jecrell', 'alycecil')\n",
        "G.add_node('lbmaian')\n",
        "G.add_edge('jecrell', 'lbmaian')\n",
        "G.add_edge('lbmaian', 'alycecil')\n",
        "plt.figure(figsize=(8,8))\n",
        "draw(G, node_color='#e0e0e0')\n",
        "plt.axis(\"equal\")\n",
        "plt.show()"
      ],
      "execution_count": 20,
      "outputs": [
        {
          "output_type": "display_data",
          "data": {
            "image/png": "[encoded data removed]",
            "text/plain": [
              "<Figure size 576x576 with 1 Axes>"
            ]
          },
          "metadata": {
            "tags": []
          }
        }
      ]
    },
    {
      "cell_type": "code",
      "metadata": {
        "id": "DrWE4d6oFx72",
        "colab_type": "code",
        "colab": {}
      },
      "source": [
        "# test github API\n",
        "import requests\n",
        "username = input(\"Input username: \")\n",
        "token = input(\"Input OAuth token: \")\n",
        "response = requests.get('https://api.github.com/user', auth=(username, token))\n",
        "response"
      ],
      "execution_count": 0,
      "outputs": []
    },
    {
      "cell_type": "code",
      "metadata": {
        "id": "mqYFDBOQL0Ob",
        "colab_type": "code",
        "colab": {}
      },
      "source": [
        "# actually construct network graph\n",
        "from networkx import draw_networkx as draw\n",
        "import requests\n",
        "\n",
        "def get_collaborators(user, degrees_remaining):\n",
        "  pass\n",
        "\n",
        "def get_repos(user):\n",
        "  pass\n",
        "\n",
        "def get_repo_collaborators(user):\n",
        "  pass\n",
        "\n",
        "target_user = input(\"Input target user: \")\n",
        "# TODO: check if target user exists\n",
        "max_degrees = input(\"Input degrees of relation to search: \")\n",
        "while(not isinstance(max_degrees, int)):\n",
        "  max_degrees = input(\"Input degrees of relation to search: \")\n",
        "# assuming username/token the same as from the API test\n",
        "# get repos of target user\n",
        "# get contributors to each repo\n",
        "# run recursively\n",
        "g = Graph()\n",
        "g.add_node(target_user)\n",
        "for u in get_collaborators(user, max_degrees):\n",
        "  g.add_node(u)\n",
        "  # probably need to add edges in the recursion or smth\n",
        "  # also, count forks\n",
        "  # should probably label specific repos with collaborators, but this will increase complexity significantly"
      ],
      "execution_count": 0,
      "outputs": []
    }
  ]
}