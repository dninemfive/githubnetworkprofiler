{
  "nbformat": 4,
  "nbformat_minor": 0,
  "metadata": {
    "colab": {
      "name": "githubnetworkprofiler",
      "provenance": [],
      "authorship_tag": "ABX9TyNoZjsqRyyFwaU76s7XUlL3"
    },
    "kernelspec": {
      "name": "python3",
      "display_name": "Python 3"
    }
  },
  "cells": [
    {
      "cell_type": "code",
      "metadata": {
        "id": "qVlFu2MhAvbN",
        "colab_type": "code",
        "colab": {}
      },
      "source": [
        "# load in library we will use later\n",
        "try:\n",
        "  from networkx import Graph\n",
        "except:\n",
        "  !pip install networkx\n",
        "  !pip install matplotlib\n",
        "  from networkx import Graph\n",
        "  from networkx import draw_networkx as draw"
      ],
      "execution_count": 0,
      "outputs": []
    },
    {
      "cell_type": "code",
      "metadata": {
        "id": "WwrvLSoDD-Pb",
        "colab_type": "code",
        "colab": {}
      },
      "source": [
        "# test graph drawing\n",
        "from networkx import draw_networkx as draw\n",
        "G = Graph()\n",
        "G.add_node('dninemfive')\n",
        "G.add_node('ElminsterAU')\n",
        "G.add_edge('dninemfive', 'ElminsterAU')\n",
        "draw(G)"
      ],
      "execution_count": 0,
      "outputs": []
    },
    {
      "cell_type": "code",
      "metadata": {
        "id": "DrWE4d6oFx72",
        "colab_type": "code",
        "colab": {}
      },
      "source": [
        "# test github API\n",
        "import requests\n",
        "username = input(\"Input username: \")\n",
        "token = input(\"Input OAuth token: \")\n",
        "response = requests.get('https://api.github.com/user', auth=(username, token))\n",
        "response"
      ],
      "execution_count": 0,
      "outputs": []
    },
    {
      "cell_type": "code",
      "metadata": {
        "id": "mqYFDBOQL0Ob",
        "colab_type": "code",
        "colab": {}
      },
      "source": [
        "# actually construct network graph\n",
        "from networkx import draw_networkx as draw\n",
        "import requests\n",
        "\n",
        "def get_collaborators(user, degrees_remaining):\n",
        "  pass\n",
        "\n",
        "def get_repos(user):\n",
        "  pass\n",
        "\n",
        "def get_repo_collaborators(user):\n",
        "  pass\n",
        "\n",
        "target_user = input(\"Input target user: \")\n",
        "# TODO: check if target user exists\n",
        "max_degrees = input(\"Input degrees of relation to search: \")\n",
        "while(not isinstance(max_degrees, int)):\n",
        "  max_degrees = input(\"Input degrees of relation to search: \")\n",
        "# assuming username/token the same as from the API test\n",
        "# get repos of target user\n",
        "# get contributors to each repo\n",
        "# run recursively\n",
        "g = Graph()\n",
        "g.add_node(target_user)\n",
        "for u in get_collaborators(user, max_degrees):\n",
        "  g.add_node(u)\n",
        "  # probably need to add edges in the recursion or smth"
      ],
      "execution_count": 0,
      "outputs": []
    }
  ]
}