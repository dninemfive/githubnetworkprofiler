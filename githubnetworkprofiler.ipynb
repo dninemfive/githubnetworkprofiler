{
  "nbformat": 4,
  "nbformat_minor": 0,
  "metadata": {
    "colab": {
      "name": "githubnetworkprofiler",
      "provenance": [],
      "authorship_tag": "ABX9TyO+WvSQg7U7Gi6EW+yqRuP5"
    },
    "kernelspec": {
      "name": "python3",
      "display_name": "Python 3"
    }
  },
  "cells": [
    {
      "cell_type": "code",
      "metadata": {
        "id": "qVlFu2MhAvbN",
        "colab_type": "code",
        "colab": {}
      },
      "source": [
        "# load in library we will use later\n",
        "try:\n",
        "  from networkx import Graph\n",
        "except:\n",
        "  !pip install networkx\n",
        "  from networkx import Graph"
      ],
      "execution_count": 0,
      "outputs": []
    }
  ]
}