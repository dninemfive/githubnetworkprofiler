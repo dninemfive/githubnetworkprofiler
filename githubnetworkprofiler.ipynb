{
  "nbformat": 4,
  "nbformat_minor": 0,
  "metadata": {
    "colab": {
      "name": "githubnetworkprofiler",
      "provenance": [],
      "authorship_tag": "ABX9TyMQhtQpyl2ZN3X4rQHpH/vs"
    },
    "kernelspec": {
      "name": "python3",
      "display_name": "Python 3"
    }
  },
  "cells": [
    {
      "cell_type": "code",
      "metadata": {
        "id": "qVlFu2MhAvbN",
        "colab_type": "code",
        "colab": {}
      },
      "source": [
        "# load in library we will use later\n",
        "try:\n",
        "  from networkx import Graph\n",
        "except:\n",
        "  !pip install networkx\n",
        "  !pip install matplotlib\n",
        "  from networkx import Graph\n",
        "  from networkx import draw_networkx as draw"
      ],
      "execution_count": 0,
      "outputs": []
    },
    {
      "cell_type": "code",
      "metadata": {
        "id": "WwrvLSoDD-Pb",
        "colab_type": "code",
        "outputId": "f473b586-2180-4fe6-904c-4ebdc35768b6",
        "colab": {
          "base_uri": "https://localhost:8080/",
          "height": 248
        }
      },
      "source": [
        "# test graph drawing\n",
        "from networkx import draw_networkx as draw\n",
        "G = Graph()\n",
        "G.add_node('dninemfive')\n",
        "G.add_node('ElminsterAU')\n",
        "G.add_edge('dninemfive', 'ElminsterAU')\n",
        "draw(G)"
      ],
      "execution_count": 0,
      "outputs": [
        {
          "output_type": "display_data",
          "data": {
            "image/png": "[encoded data removed]",
            "text/plain": [
              "<Figure size 432x288 with 1 Axes>"
            ]
          },
          "metadata": {
            "tags": []
          }
        }
      ]
    },
    {
      "cell_type": "code",
      "metadata": {
        "id": "DrWE4d6oFx72",
        "colab_type": "code",
        "colab": {}
      },
      "source": [
        "# test github API\n",
        "import requests\n",
        "username = input(\"Input username: \")\n",
        "token = input(\"Input OAuth token: \")\n",
        "response = requests.get('https://api.github.com/user', auth=(username, token))\n",
        "response"
      ],
      "execution_count": 0,
      "outputs": []
    }
  ]
}